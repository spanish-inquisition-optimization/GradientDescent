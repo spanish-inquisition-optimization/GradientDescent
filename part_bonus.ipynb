{
 "cells": [
  {
   "cell_type": "markdown",
   "source": [
    "# Сравнение методов линейного поиска, backtracking method\n",
    "\n",
    "Про реализацию и теорОбоснование `Backtracking method` — см. в первых частях.\n",
    "\n",
    "## Что хотим от line search метода\n",
    "\n",
    "Мы уже собрали целый зоопарк методов линейного поиска:\n",
    "- БинПоиск по градиенту (с остановкой по достижению малого значения градиента и/или размера ворот $r - l$, с опциональным обрубанием по количеству итераций)\n",
    "- Золотое сечение (по количеству итераций)\n",
    "- Фибоначчи (по количеству итераций)\n",
    "- Метод, базирующийся на условиях Вольфе (aka backtracking method)\n",
    "\n",
    "Здесь нужно проанализировать, какие `line searcher`-ы _лучше_ себя показывают. Что от такого алгоритма требуется?\n",
    "\n",
    "1. Конечно же, хорошо сходиться\n",
    "2. Произвести _достаточно_ точный поиск, чтобы заЭксплойтить это направление поиска\n",
    "3. Но не переусердствовать: не слишком долго искать, чтобы сэкономить время\n",
    "\n",
    "Пункт 1 очевиден и не настолько интересен.\n",
    "А вот между 2. и 3. налицо трейд-офф по поводу того, насколько быстро надо останавливаться. Для каждой конкретной функции ответ на этот вопрос разный — и хороший line search метод — тот, который хорошо умеет его давать.\n",
    "Причём давать для самых разных паттернов ландшафта, масштабирований и т.д.\n",
    "\n",
    "## Как производить оценку\n",
    "\n",
    "Раз уж так важна устойчивость и догадливость метода, заведём набор _интересных_ функций и попробуем запустить методы на них (метод проходит все функции с одинаковыми гиперпараметрами — приближено к реальности).\n",
    "\n",
    "Функции:\n",
    "- квадратичная (какое-то/какие-то число(а) обусловленности, размерность(и))\n",
    "- умножение на разные константы (маленькую, большую)/масштабирование аргументов\n",
    "- непредсказуемый рельеф (всё ещё выпуклая, но где-то сильно убывает, где-то — _не очень_…)\n",
    "\n",
    "Теперь — как оценивать результат. В целом — чем меньше действий, тем лучше. В реальной жизни обычно речь идёт о процессорном времени, но здесь измерять время — это лишняя возня, потеря точности и, главное, bias за счёт того, что у тестовых функций (к примеру, квадратичной) может быть _странное_ отношение времён вычисления функции и градиента. Это затрудняет оценку самого метода линейного поиска, а также не соответствует реальности. Поэтому будем считать, что целевая функция (чем меньше, тем лучше) в данном случае $\\operatorname{computations}(f) + \\operatorname{computations}(\\nabla f)$.\n",
    "\n",
    "Ожидаем, что методы с фиксированным количеством итераций будут хорошо себя проявлять только для конкретных функций фиксированного уровня сложности, а для других — либо делать избыточную работу внутри каждой итерации, либо плохо отрабатывать очередное направление → потребуется много внешних итераций, иногда даже вообще не сходиться.\n",
    "\n",
    "А про методы с остановкой по фиксированному $\\varepsilon$ ожидаем, что он будет плохо устойчив к масштабированию функции/градиента."
   ],
   "metadata": {
    "collapsed": false
   }
  },
  {
   "cell_type": "markdown",
   "source": [
    "Реальность соответствует ожиданиям: backtracking method умеет с одной стороны вовремя остановиться, с другой — чётко отрабатывает (→ не расходится), когда это нужно."
   ],
   "metadata": {
    "collapsed": false
   }
  },
  {
   "cell_type": "code",
   "execution_count": 80,
   "outputs": [
    {
     "name": "stdout",
     "output_type": "stream",
     "text": [
      "The autoreload extension is already loaded. To reload it, use:\n",
      "  %reload_ext autoreload\n"
     ]
    }
   ],
   "source": [
    "import numpy as np\n",
    "import matplotlib.pyplot as plt\n",
    "\n",
    "plt.rcParams[\"figure.figsize\"] = (10, 10)\n",
    "%load_ext autoreload\n",
    "%autoreload 2\n",
    "\n",
    "from core.gradient_descent import *\n",
    "from core.visualizer import *\n",
    "from core.optimizer_evaluator import *"
   ],
   "metadata": {
    "collapsed": false
   }
  },
  {
   "cell_type": "code",
   "execution_count": 81,
   "outputs": [
    {
     "name": "stdout",
     "output_type": "stream",
     "text": [
      "Quadratic : f called 51 times, f' called 50 times, total score: 101\n",
      "Trigonometric : f called 101 times, f' called 100 times, total score: 201\n",
      "GD diverged at Rosenbrock (got vector norm 67215268.07617551 after 3 steps), such a pity…\n",
      "GD diverged at 100-dimensional quadratic with k = 100 (got vector norm 2.4860330689387453e+18 after 16 steps), such a pity…\n"
     ]
    }
   ],
   "source": [
    "test_linear_search(fixed_step_search(0.1), True)"
   ],
   "metadata": {
    "collapsed": false
   }
  },
  {
   "cell_type": "code",
   "execution_count": 82,
   "outputs": [
    {
     "name": "stdout",
     "output_type": "stream",
     "text": [
      "Quadratic : f called 6 times, f' called 5 times, total score: 11\n",
      "Trigonometric : f called 4 times, f' called 3 times, total score: 7\n",
      "GD diverged at Rosenbrock (got vector norm 697073038160.035 after 3 steps), such a pity…\n",
      "GD diverged at 100-dimensional quadratic with k = 100 (got vector norm 8.738122483458636e+19 after 10 steps), such a pity…\n"
     ]
    },
    {
     "name": "stderr",
     "output_type": "stream",
     "text": [
      "C:\\dev\\Education\\MethOpt\\GradientDescent\\core\\visualizer.py:114: RuntimeWarning: overflow encountered in long_scalars\n",
      "  return alpha * (x[0] - 5) ** 2 + (x[1] - 7) ** 2\n"
     ]
    }
   ],
   "source": [
    "test_linear_search(fixed_step_search(1), True)"
   ],
   "metadata": {
    "collapsed": false
   }
  },
  {
   "cell_type": "code",
   "execution_count": 83,
   "outputs": [
    {
     "name": "stdout",
     "output_type": "stream",
     "text": [
      "Quadratic : f called 89 times, f' called 39 times, total score: 128\n",
      "Trigonometric : f called 720 times, f' called 299 times, total score: 1019\n",
      "Rosenbrock : f called 262 times, f' called 60 times, total score: 322\n",
      "100-dimensional quadratic with k = 100 : f called 3783 times, f' called 1071 times, total score: 4854\n"
     ]
    }
   ],
   "source": [
    "test_linear_search(wolfe_conditions_search(0.05, 0.9), True)"
   ],
   "metadata": {
    "collapsed": false
   }
  },
  {
   "cell_type": "code",
   "execution_count": 84,
   "outputs": [
    {
     "name": "stdout",
     "output_type": "stream",
     "text": [
      "Quadratic : f called 397 times, f' called 22 times, total score: 419\n",
      "Trigonometric : f called 1799 times, f' called 99 times, total score: 1898\n",
      "GD diverged at Rosenbrock (got vector norm 647125619911.2137 after 6 steps), such a pity…\n",
      "100-dimensional quadratic with k = 100 : f called 7381 times, f' called 410 times, total score: 7791\n"
     ]
    }
   ],
   "source": [
    "test_linear_search(fibonacci_search(15), True)"
   ],
   "metadata": {
    "collapsed": false
   }
  },
  {
   "cell_type": "code",
   "execution_count": 85,
   "outputs": [
    {
     "name": "stdout",
     "output_type": "stream",
     "text": [
      "Quadratic : f called 463 times, f' called 14 times, total score: 477\n",
      "Trigonometric : f called 588 times, f' called 17 times, total score: 605\n",
      "Rosenbrock : f called 661 times, f' called 20 times, total score: 681\n",
      "100-dimensional quadratic with k = 100 : f called 12178 times, f' called 369 times, total score: 12547\n"
     ]
    }
   ],
   "source": [
    "test_linear_search(fibonacci_search(30), True)"
   ],
   "metadata": {
    "collapsed": false
   }
  },
  {
   "cell_type": "code",
   "execution_count": 86,
   "outputs": [
    {
     "name": "stdout",
     "output_type": "stream",
     "text": [
      "Quadratic : f called 687 times, f' called 14 times, total score: 701\n",
      "Trigonometric : f called 864 times, f' called 17 times, total score: 881\n",
      "Rosenbrock : f called 981 times, f' called 20 times, total score: 1001\n",
      "100-dimensional quadratic with k = 100 : f called 20189 times, f' called 412 times, total score: 20601\n"
     ]
    }
   ],
   "source": [
    "test_linear_search(golden_ratio_search, True)"
   ],
   "metadata": {
    "collapsed": false
   }
  },
  {
   "cell_type": "code",
   "execution_count": 86,
   "outputs": [],
   "source": [],
   "metadata": {
    "collapsed": false
   }
  }
 ],
 "metadata": {
  "kernelspec": {
   "display_name": "Python 3",
   "language": "python",
   "name": "python3"
  },
  "language_info": {
   "codemirror_mode": {
    "name": "ipython",
    "version": 2
   },
   "file_extension": ".py",
   "mimetype": "text/x-python",
   "name": "python",
   "nbconvert_exporter": "python",
   "pygments_lexer": "ipython2",
   "version": "2.7.6"
  }
 },
 "nbformat": 4,
 "nbformat_minor": 0
}
